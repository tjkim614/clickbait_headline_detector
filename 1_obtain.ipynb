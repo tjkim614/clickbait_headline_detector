{
 "cells": [
  {
   "cell_type": "markdown",
   "metadata": {},
   "source": [
    "# OSEMN Model (1): Obtain"
   ]
  },
  {
   "cell_type": "markdown",
   "metadata": {},
   "source": [
    "- Kaggle (32,000)\n",
    "    - clickbait (from ‘BuzzFeed’, ‘Upworthy’, ‘ViralNova’, ‘Thatscoop’, ‘Scoopwhoop’ and ‘ViralStories’)\n",
    "    - non-clickbait (from ‘WikiNews’, ’New York Times’, ‘The Guardian’, and ‘The Hindu’)\n",
    "    \n",
    "- Webscraping from clickbait websites (16,707)\n",
    "    - clickhole.com (4,526)\n",
    "    - worldtruth.tv (12,181)\n",
    "    \n",
    "- API's from major press companies (16,660)\n",
    "    - The New York Times (11,460)\n",
    "    - The Guardian (5,200)\n",
    "    \n",
    "- Total of 65,367 headlines - 32,707 clickbait and 32,660 non-clickbait headlines"
   ]
  },
  {
   "cell_type": "markdown",
   "metadata": {},
   "source": [
    "# Kaggle Dataset"
   ]
  },
  {
   "cell_type": "code",
   "execution_count": 10,
   "metadata": {},
   "outputs": [],
   "source": [
    "import pandas as pd\n",
    "import matplotlib.pyplot as plt"
   ]
  },
  {
   "cell_type": "code",
   "execution_count": 2,
   "metadata": {},
   "outputs": [],
   "source": [
    "kaggle = pd.read_csv('Data/clickbait_data.csv')"
   ]
  },
  {
   "cell_type": "markdown",
   "metadata": {},
   "source": [
    "Description\n",
    "\n",
    "Dataset for Classification of news headlines into clickbait or non-clickbait.\n",
    "The data is collected from various news sites.\n",
    "The clickbait headlines are collected from sites such as ‘BuzzFeed’, ‘Upworthy’, ‘ViralNova’, ‘Thatscoop’, ‘Scoopwhoop’ and ‘ViralStories’.\n",
    "The relevant or non-clickbait headlines are collected from many trustworthy news sites such as ‘WikiNews’, ’New York Times’, ‘The Guardian’, and ‘The Hindu’.\n",
    "We can apply different classification algorithms to classify the data into clickbait and non-clickbait.\n",
    "\n",
    "Your data will be in front of the world's largest data science community. What questions do you want to see answered?"
   ]
  },
  {
   "cell_type": "markdown",
   "metadata": {},
   "source": [
    "About this file\n",
    "\n",
    "This dataset contains headlines from various news sites such as ‘WikiNews’, ’New York Times’, ‘The Guardian’, ‘The Hindu’, ‘BuzzFeed’, ‘Upworthy’, ‘ViralNova’, ‘Thatscoop’, ‘Scoopwhoop’ and ‘ViralStories’. It has two columns first one contains headlines and the second one has numerical labels of clickbait in which 1 represents that it is clickbait and 0 represents that it is non-clickbait headline. The dataset contains total 32000 rows of which 50% are clickbait and other 50% are non-clickbait."
   ]
  },
  {
   "cell_type": "code",
   "execution_count": 261,
   "metadata": {
    "scrolled": false
   },
   "outputs": [
    {
     "data": {
      "text/html": [
       "<div>\n",
       "<style scoped>\n",
       "    .dataframe tbody tr th:only-of-type {\n",
       "        vertical-align: middle;\n",
       "    }\n",
       "\n",
       "    .dataframe tbody tr th {\n",
       "        vertical-align: top;\n",
       "    }\n",
       "\n",
       "    .dataframe thead th {\n",
       "        text-align: right;\n",
       "    }\n",
       "</style>\n",
       "<table border=\"1\" class=\"dataframe\">\n",
       "  <thead>\n",
       "    <tr style=\"text-align: right;\">\n",
       "      <th></th>\n",
       "      <th>headline</th>\n",
       "      <th>clickbait</th>\n",
       "    </tr>\n",
       "  </thead>\n",
       "  <tbody>\n",
       "    <tr>\n",
       "      <th>0</th>\n",
       "      <td>Should I Get Bings</td>\n",
       "      <td>1</td>\n",
       "    </tr>\n",
       "    <tr>\n",
       "      <th>1</th>\n",
       "      <td>Which TV Female Friend Group Do You Belong In</td>\n",
       "      <td>1</td>\n",
       "    </tr>\n",
       "    <tr>\n",
       "      <th>2</th>\n",
       "      <td>The New \"Star Wars: The Force Awakens\" Trailer...</td>\n",
       "      <td>1</td>\n",
       "    </tr>\n",
       "    <tr>\n",
       "      <th>3</th>\n",
       "      <td>This Vine Of New York On \"Celebrity Big Brothe...</td>\n",
       "      <td>1</td>\n",
       "    </tr>\n",
       "    <tr>\n",
       "      <th>4</th>\n",
       "      <td>A Couple Did A Stunning Photo Shoot With Their...</td>\n",
       "      <td>1</td>\n",
       "    </tr>\n",
       "  </tbody>\n",
       "</table>\n",
       "</div>"
      ],
      "text/plain": [
       "                                            headline  clickbait\n",
       "0                                 Should I Get Bings          1\n",
       "1      Which TV Female Friend Group Do You Belong In          1\n",
       "2  The New \"Star Wars: The Force Awakens\" Trailer...          1\n",
       "3  This Vine Of New York On \"Celebrity Big Brothe...          1\n",
       "4  A Couple Did A Stunning Photo Shoot With Their...          1"
      ]
     },
     "execution_count": 261,
     "metadata": {},
     "output_type": "execute_result"
    }
   ],
   "source": [
    "kaggle.head()"
   ]
  },
  {
   "cell_type": "markdown",
   "metadata": {},
   "source": [
    "# Webscraping"
   ]
  },
  {
   "cell_type": "markdown",
   "metadata": {},
   "source": [
    "## Clickhole"
   ]
  },
  {
   "cell_type": "markdown",
   "metadata": {},
   "source": [
    "### Lifestyle"
   ]
  },
  {
   "cell_type": "code",
   "execution_count": 14,
   "metadata": {},
   "outputs": [],
   "source": [
    "from bs4 import BeautifulSoup\n",
    "import requests\n",
    "import time"
   ]
  },
  {
   "cell_type": "code",
   "execution_count": 60,
   "metadata": {},
   "outputs": [],
   "source": [
    "urls = ['https://clickhole.com/category/lifestyle/page/{}/'.format(i) for i in range(1, 401)]"
   ]
  },
  {
   "cell_type": "code",
   "execution_count": 56,
   "metadata": {},
   "outputs": [],
   "source": [
    "def get_headlines(urls):\n",
    "    headlines = []\n",
    "    for url in urls:\n",
    "        html_page = requests.get(url)\n",
    "        time.sleep(1)\n",
    "        soup = BeautifulSoup(html_page.content, 'html.parser')\n",
    "        raw = soup.find_all('h2', {'class': 'post-title'})\n",
    "        headlines += [title.find('a').text for title in raw]\n",
    "    return headlines"
   ]
  },
  {
   "cell_type": "code",
   "execution_count": 61,
   "metadata": {},
   "outputs": [],
   "source": [
    "clickhole_lifestyle = get_headlines(urls)"
   ]
  },
  {
   "cell_type": "code",
   "execution_count": 262,
   "metadata": {},
   "outputs": [
    {
     "name": "stdout",
     "output_type": "stream",
     "text": [
      "2794\n"
     ]
    }
   ],
   "source": [
    "print(len(clickhole_lifestyle))"
   ]
  },
  {
   "cell_type": "code",
   "execution_count": 63,
   "metadata": {},
   "outputs": [],
   "source": [
    "df_lifestyle = pd.DataFrame(clickhole_lifestyle)"
   ]
  },
  {
   "cell_type": "code",
   "execution_count": 134,
   "metadata": {},
   "outputs": [],
   "source": [
    "df_lifestyle.to_csv('clickhole_lifestyle.csv')"
   ]
  },
  {
   "cell_type": "markdown",
   "metadata": {},
   "source": [
    "### news"
   ]
  },
  {
   "cell_type": "code",
   "execution_count": 139,
   "metadata": {},
   "outputs": [],
   "source": [
    "news_urls = ['https://clickhole.com/category/news/page/{}/'.format(i) for i in range(1, 249)]"
   ]
  },
  {
   "cell_type": "code",
   "execution_count": 140,
   "metadata": {},
   "outputs": [],
   "source": [
    "clickhole_news = get_headlines(news_urls)"
   ]
  },
  {
   "cell_type": "code",
   "execution_count": 263,
   "metadata": {},
   "outputs": [
    {
     "name": "stdout",
     "output_type": "stream",
     "text": [
      "1732\n"
     ]
    }
   ],
   "source": [
    "print(len(clickhole_news))"
   ]
  },
  {
   "cell_type": "code",
   "execution_count": 142,
   "metadata": {},
   "outputs": [],
   "source": [
    "df_news = pd.DataFrame(clickhole_news)"
   ]
  },
  {
   "cell_type": "code",
   "execution_count": 144,
   "metadata": {},
   "outputs": [],
   "source": [
    "df_news.to_csv('clickhole_news.csv')"
   ]
  },
  {
   "cell_type": "markdown",
   "metadata": {},
   "source": [
    "## Worldtruth"
   ]
  },
  {
   "cell_type": "code",
   "execution_count": 158,
   "metadata": {},
   "outputs": [],
   "source": [
    "html_page = requests.get('https://worldtruth.tv/sitemap/') # Make a get request to retrieve the page\n",
    "soup = BeautifulSoup(html_page.content, 'html.parser') # Pass the page contents to beautiful soup for parsing"
   ]
  },
  {
   "cell_type": "code",
   "execution_count": 264,
   "metadata": {},
   "outputs": [
    {
     "data": {
      "text/plain": [
       "<li><a href=\"https://worldtruth.tv/2020/12/\">December 2020</a> (239)</li>"
      ]
     },
     "execution_count": 264,
     "metadata": {},
     "output_type": "execute_result"
    }
   ],
   "source": [
    "archive_months = soup.find_all('li', {'class': ''})[:37]\n",
    "archive_months[0]"
   ]
  },
  {
   "cell_type": "code",
   "execution_count": 265,
   "metadata": {},
   "outputs": [
    {
     "data": {
      "text/plain": [
       "'https://worldtruth.tv/2020/12/'"
      ]
     },
     "execution_count": 265,
     "metadata": {},
     "output_type": "execute_result"
    }
   ],
   "source": [
    "page_links = []\n",
    "for li_tag in archive_months:\n",
    "    page_links.append(li_tag.find('a')['href'])\n",
    "\n",
    "page_links[0]"
   ]
  },
  {
   "cell_type": "code",
   "execution_count": 178,
   "metadata": {},
   "outputs": [
    {
     "data": {
      "text/plain": [
       "'239'"
      ]
     },
     "execution_count": 178,
     "metadata": {},
     "output_type": "execute_result"
    }
   ],
   "source": [
    "soup.find_all('li', {'class': ''})[0].text[-4:-1]"
   ]
  },
  {
   "cell_type": "code",
   "execution_count": 181,
   "metadata": {},
   "outputs": [],
   "source": [
    "articles_per_month = []\n",
    "for num_months in range(len(archive_months)):\n",
    "    articles_per_month.append(soup.find_all('li', {'class': ''})[num_months].text[-4:-1])"
   ]
  },
  {
   "cell_type": "code",
   "execution_count": 183,
   "metadata": {},
   "outputs": [],
   "source": [
    "html_page = requests.get('https://worldtruth.tv/2020/12/page/2/') # Make a get request to retrieve the page\n",
    "soup = BeautifulSoup(html_page.content, 'html.parser') # Pass the page contents to beautiful soup for parsing"
   ]
  },
  {
   "cell_type": "code",
   "execution_count": 192,
   "metadata": {},
   "outputs": [
    {
     "data": {
      "text/plain": [
       "'“Wearing A Mask Offers Little If Any Protection From Infection” – Harvard Doctors'"
      ]
     },
     "execution_count": 192,
     "metadata": {},
     "output_type": "execute_result"
    }
   ],
   "source": [
    "soup.find_all('h3', {'class': 'entry-title td-module-title'})[0].text"
   ]
  },
  {
   "cell_type": "code",
   "execution_count": 193,
   "metadata": {
    "scrolled": true
   },
   "outputs": [
    {
     "data": {
      "text/plain": [
       "50"
      ]
     },
     "execution_count": 193,
     "metadata": {},
     "output_type": "execute_result"
    }
   ],
   "source": [
    "len(soup.find_all('h3', {'class': 'entry-title td-module-title'}))"
   ]
  },
  {
   "cell_type": "code",
   "execution_count": 196,
   "metadata": {},
   "outputs": [],
   "source": [
    "import math"
   ]
  },
  {
   "cell_type": "code",
   "execution_count": 200,
   "metadata": {},
   "outputs": [],
   "source": [
    "pages_per_month = [math.ceil(int(month) / 50) for month in articles_per_month]"
   ]
  },
  {
   "cell_type": "code",
   "execution_count": 250,
   "metadata": {},
   "outputs": [],
   "source": [
    "link_pairs = [[page_links[i], pages_per_month[i]] for i in range(len(page_links))]"
   ]
  },
  {
   "cell_type": "code",
   "execution_count": 251,
   "metadata": {},
   "outputs": [
    {
     "data": {
      "text/plain": [
       "['https://worldtruth.tv/2020/12/', 5]"
      ]
     },
     "execution_count": 251,
     "metadata": {},
     "output_type": "execute_result"
    }
   ],
   "source": [
    "link_pairs[0]"
   ]
  },
  {
   "cell_type": "code",
   "execution_count": 236,
   "metadata": {},
   "outputs": [],
   "source": [
    "links = []\n",
    "for i in range(len(page_links)):\n",
    "    links.append([page_links[i] + 'page/{}/'.format(pg+1) for pg in range(pages_per_month[i])])"
   ]
  },
  {
   "cell_type": "code",
   "execution_count": 266,
   "metadata": {},
   "outputs": [],
   "source": [
    "wordtruth_headlines = []\n",
    "for link in links:\n",
    "    for page in link:\n",
    "        html_page = requests.get(page)\n",
    "        time.sleep(1)\n",
    "        soup = BeautifulSoup(html_page.content, 'html.parser')\n",
    "        raw = soup.find_all('h3', {'class': 'entry-title td-module-title'})\n",
    "        wordtruth_headlines += [title.text for title in raw]"
   ]
  },
  {
   "cell_type": "code",
   "execution_count": 254,
   "metadata": {},
   "outputs": [
    {
     "data": {
      "text/plain": [
       "12181"
      ]
     },
     "execution_count": 254,
     "metadata": {},
     "output_type": "execute_result"
    }
   ],
   "source": [
    "len(wordtruth_headlinesheadlinestruth_headlines)"
   ]
  },
  {
   "cell_type": "code",
   "execution_count": 255,
   "metadata": {},
   "outputs": [],
   "source": [
    "df_wordtruth_headlines = pd.DataFrame(wordtruth_headlines)"
   ]
  },
  {
   "cell_type": "code",
   "execution_count": 256,
   "metadata": {},
   "outputs": [],
   "source": [
    "df_wordtruth_headlines.to_csv('worldtruth_headlines.csv')"
   ]
  },
  {
   "cell_type": "code",
   "execution_count": null,
   "metadata": {},
   "outputs": [],
   "source": []
  },
  {
   "cell_type": "markdown",
   "metadata": {},
   "source": [
    "# API"
   ]
  },
  {
   "cell_type": "code",
   "execution_count": 9,
   "metadata": {},
   "outputs": [],
   "source": [
    "import requests\n",
    "import json"
   ]
  },
  {
   "cell_type": "code",
   "execution_count": 7,
   "metadata": {},
   "outputs": [],
   "source": [
    "from config import nyt_key, nyt_secret, guardian_key"
   ]
  },
  {
   "cell_type": "markdown",
   "metadata": {},
   "source": [
    "## NYT Archives"
   ]
  },
  {
   "cell_type": "code",
   "execution_count": 12,
   "metadata": {},
   "outputs": [],
   "source": [
    "nyt_2020_01_response = requests.get('https://api.nytimes.com/svc/archive/v1/{}/{}.json?api-key={}'.format(2020, 1, nyt_key))"
   ]
  },
  {
   "cell_type": "code",
   "execution_count": 16,
   "metadata": {},
   "outputs": [],
   "source": [
    "jan_2020 = nyt_2020_01_response.json()"
   ]
  },
  {
   "cell_type": "code",
   "execution_count": 22,
   "metadata": {},
   "outputs": [
    {
     "data": {
      "text/plain": [
       "{'hits': 4480}"
      ]
     },
     "execution_count": 22,
     "metadata": {},
     "output_type": "execute_result"
    }
   ],
   "source": [
    "jan_2020['response']['meta']"
   ]
  },
  {
   "cell_type": "code",
   "execution_count": 23,
   "metadata": {},
   "outputs": [
    {
     "data": {
      "text/plain": [
       "4480"
      ]
     },
     "execution_count": 23,
     "metadata": {},
     "output_type": "execute_result"
    }
   ],
   "source": [
    "len(jan_2020['response']['docs'])"
   ]
  },
  {
   "cell_type": "code",
   "execution_count": 33,
   "metadata": {
    "scrolled": true
   },
   "outputs": [
    {
     "data": {
      "text/plain": [
       "'‘Battling a Demon’: Drifter Sought Help Before Texas Church Shooting'"
      ]
     },
     "execution_count": 33,
     "metadata": {},
     "output_type": "execute_result"
    }
   ],
   "source": [
    "jan_2020['response']['docs'][0]['headline']['main']"
   ]
  },
  {
   "cell_type": "code",
   "execution_count": 34,
   "metadata": {},
   "outputs": [
    {
     "name": "stdout",
     "output_type": "stream",
     "text": [
      "7001\n"
     ]
    }
   ],
   "source": [
    "nyt_2021_01_response = requests.get('https://api.nytimes.com/svc/archive/v1/{}/{}.json?api-key={}'.format(2021, 1, nyt_key))\n",
    "jan_2021 = nyt_2021_01_response.json()\n",
    "print(len(jan_2021['response']['docs']))"
   ]
  },
  {
   "cell_type": "code",
   "execution_count": 121,
   "metadata": {},
   "outputs": [],
   "source": [
    "nyt_jan_2021_list = []\n",
    "for i in range(len(jan_2021['response']['docs'])):\n",
    "    nyt_jan_2021_list.append(jan_2021['response']['docs'][i]['headline']['main'])"
   ]
  },
  {
   "cell_type": "code",
   "execution_count": 124,
   "metadata": {},
   "outputs": [],
   "source": [
    "import pandas as pd"
   ]
  },
  {
   "cell_type": "code",
   "execution_count": 126,
   "metadata": {},
   "outputs": [],
   "source": [
    "df_nyt_jan_2021 = pd.DataFrame(nyt_jan_2021_list)\n",
    "df_nyt_jan_2021.to_csv('nyt_jan_2021.csv')"
   ]
  },
  {
   "cell_type": "code",
   "execution_count": 36,
   "metadata": {},
   "outputs": [
    {
     "name": "stdout",
     "output_type": "stream",
     "text": [
      "4459\n"
     ]
    }
   ],
   "source": [
    "nyt_2020_07_response = requests.get('https://api.nytimes.com/svc/archive/v1/{}/{}.json?api-key={}'.format(2020, 7, nyt_key))\n",
    "jul_2020 = nyt_2020_07_response.json()\n",
    "print(len(jul_2020['response']['docs']))"
   ]
  },
  {
   "cell_type": "code",
   "execution_count": 127,
   "metadata": {},
   "outputs": [],
   "source": [
    "nyt_jul_2020_list = []\n",
    "for i in range(len(jul_2020['response']['docs'])):\n",
    "    nyt_jul_2020_list.append(jul_2020['response']['docs'][i]['headline']['main'])\n",
    "    \n",
    "df_nyt_jul_2020 = pd.DataFrame(nyt_jul_2020_list)\n",
    "df_nyt_jul_2020.to_csv('nyt_jul_2020.csv')"
   ]
  },
  {
   "cell_type": "code",
   "execution_count": 128,
   "metadata": {},
   "outputs": [
    {
     "data": {
      "text/html": [
       "<div>\n",
       "<style scoped>\n",
       "    .dataframe tbody tr th:only-of-type {\n",
       "        vertical-align: middle;\n",
       "    }\n",
       "\n",
       "    .dataframe tbody tr th {\n",
       "        vertical-align: top;\n",
       "    }\n",
       "\n",
       "    .dataframe thead th {\n",
       "        text-align: right;\n",
       "    }\n",
       "</style>\n",
       "<table border=\"1\" class=\"dataframe\">\n",
       "  <thead>\n",
       "    <tr style=\"text-align: right;\">\n",
       "      <th></th>\n",
       "      <th>0</th>\n",
       "    </tr>\n",
       "  </thead>\n",
       "  <tbody>\n",
       "    <tr>\n",
       "      <th>0</th>\n",
       "      <td>This Should Be Biden’s Bumper Sticker</td>\n",
       "    </tr>\n",
       "    <tr>\n",
       "      <th>1</th>\n",
       "      <td>Corrections: July 1, 2020</td>\n",
       "    </tr>\n",
       "    <tr>\n",
       "      <th>2</th>\n",
       "      <td>Why Does Trump Put Russia First?</td>\n",
       "    </tr>\n",
       "    <tr>\n",
       "      <th>3</th>\n",
       "      <td>Senate Approves Extending Small-Business Program</td>\n",
       "    </tr>\n",
       "    <tr>\n",
       "      <th>4</th>\n",
       "      <td>Quotation of the Day: The Fight Over Abortion ...</td>\n",
       "    </tr>\n",
       "    <tr>\n",
       "      <th>...</th>\n",
       "      <td>...</td>\n",
       "    </tr>\n",
       "    <tr>\n",
       "      <th>4454</th>\n",
       "      <td>Supreme Court Lets Trump Keep Building His Bor...</td>\n",
       "    </tr>\n",
       "    <tr>\n",
       "      <th>4455</th>\n",
       "      <td>The Coronavirus Infected Hundreds at a Georgia...</td>\n",
       "    </tr>\n",
       "    <tr>\n",
       "      <th>4456</th>\n",
       "      <td>Trump’s Coronavirus Testing Chief Concedes a L...</td>\n",
       "    </tr>\n",
       "    <tr>\n",
       "      <th>4457</th>\n",
       "      <td>White House and Congress Clash on Relief Plan ...</td>\n",
       "    </tr>\n",
       "    <tr>\n",
       "      <th>4458</th>\n",
       "      <td>The Less Impossible Israeli-Palestinian Peace</td>\n",
       "    </tr>\n",
       "  </tbody>\n",
       "</table>\n",
       "<p>4459 rows × 1 columns</p>\n",
       "</div>"
      ],
      "text/plain": [
       "                                                      0\n",
       "0                 This Should Be Biden’s Bumper Sticker\n",
       "1                             Corrections: July 1, 2020\n",
       "2                      Why Does Trump Put Russia First?\n",
       "3      Senate Approves Extending Small-Business Program\n",
       "4     Quotation of the Day: The Fight Over Abortion ...\n",
       "...                                                 ...\n",
       "4454  Supreme Court Lets Trump Keep Building His Bor...\n",
       "4455  The Coronavirus Infected Hundreds at a Georgia...\n",
       "4456  Trump’s Coronavirus Testing Chief Concedes a L...\n",
       "4457  White House and Congress Clash on Relief Plan ...\n",
       "4458      The Less Impossible Israeli-Palestinian Peace\n",
       "\n",
       "[4459 rows x 1 columns]"
      ]
     },
     "execution_count": 128,
     "metadata": {},
     "output_type": "execute_result"
    }
   ],
   "source": [
    "df_nyt_jul_2020"
   ]
  },
  {
   "cell_type": "markdown",
   "metadata": {},
   "source": [
    "## The Guardian"
   ]
  },
  {
   "cell_type": "code",
   "execution_count": 37,
   "metadata": {},
   "outputs": [],
   "source": [
    "guardian_fall_2020_response = requests.get('https://content.guardianapis.com/search?from-date=2020-09-15&to-date=2020-11-15&order-by=newest&show-fields=all&page-size=200&api-key={}'.format(guardian_key))\n",
    "g_fall_2020 = guardian_fall_2020_response.json()"
   ]
  },
  {
   "cell_type": "code",
   "execution_count": 41,
   "metadata": {},
   "outputs": [
    {
     "data": {
      "text/plain": [
       "13445"
      ]
     },
     "execution_count": 41,
     "metadata": {},
     "output_type": "execute_result"
    }
   ],
   "source": [
    "g_fall_2020['response'][]"
   ]
  },
  {
   "cell_type": "code",
   "execution_count": 42,
   "metadata": {},
   "outputs": [],
   "source": [
    "guardian_2020_9_response = requests.get('https://content.guardianapis.com/search?from-date=2020-09-01&to-date=2020-09-30&order-by=newest&show-fields=all&page-size=200&api-key={}'.format(guardian_key))\n",
    "g_sep_2020 = guardian_2020_9_response.json()"
   ]
  },
  {
   "cell_type": "code",
   "execution_count": 50,
   "metadata": {},
   "outputs": [
    {
     "data": {
      "text/plain": [
       "int"
      ]
     },
     "execution_count": 50,
     "metadata": {},
     "output_type": "execute_result"
    }
   ],
   "source": [
    "type(g_sep_2020['response']['total'])"
   ]
  },
  {
   "cell_type": "code",
   "execution_count": 49,
   "metadata": {
    "scrolled": true
   },
   "outputs": [
    {
     "data": {
      "text/plain": [
       "'Italian senate suspended as lawmakers test positive –\\xa0as it happened'"
      ]
     },
     "execution_count": 49,
     "metadata": {},
     "output_type": "execute_result"
    }
   ],
   "source": [
    "g_sep_2020['response']['results'][0]['webTitle']"
   ]
  },
  {
   "cell_type": "code",
   "execution_count": 56,
   "metadata": {},
   "outputs": [
    {
     "data": {
      "text/plain": [
       "range(0, 6738)"
      ]
     },
     "execution_count": 56,
     "metadata": {},
     "output_type": "execute_result"
    }
   ],
   "source": [
    "range(g_sep_2020['response']['total'])"
   ]
  },
  {
   "cell_type": "code",
   "execution_count": 63,
   "metadata": {},
   "outputs": [],
   "source": [
    "gresults = g_sep_2020['response']['results']"
   ]
  },
  {
   "cell_type": "code",
   "execution_count": 65,
   "metadata": {},
   "outputs": [
    {
     "data": {
      "text/plain": [
       "200"
      ]
     },
     "execution_count": 65,
     "metadata": {},
     "output_type": "execute_result"
    }
   ],
   "source": [
    "len(gresults)"
   ]
  },
  {
   "cell_type": "code",
   "execution_count": 68,
   "metadata": {},
   "outputs": [],
   "source": [
    "guard_2020_9_response = requests.get('https://content.guardianapis.com/search?from-date=2020-09-01&to-date=2020-09-30&order-by=newest&show-fields=all&page-size=5000&api-key={}'.format(guardian_key))\n",
    "guard_sep_2020 = guard_2020_9_response.json()"
   ]
  },
  {
   "cell_type": "code",
   "execution_count": 69,
   "metadata": {},
   "outputs": [
    {
     "data": {
      "text/plain": [
       "{'response': {'status': 'error',\n",
       "  'message': 'page-size must be an integer between 0 and 200'}}"
      ]
     },
     "execution_count": 69,
     "metadata": {},
     "output_type": "execute_result"
    }
   ],
   "source": [
    "guard_sep_2020"
   ]
  },
  {
   "cell_type": "code",
   "execution_count": 80,
   "metadata": {},
   "outputs": [],
   "source": [
    "guardian_oct_2020 = {}\n",
    "guardian_oct_2020[1] = nyt_2020_06_response.json()\n",
    "guardian_oct_2020[2] = nyt_2020_07_response.json()"
   ]
  },
  {
   "cell_type": "code",
   "execution_count": 129,
   "metadata": {},
   "outputs": [],
   "source": [
    "# guardian_oct_2020 = {}\n",
    "for i in range(19):\n",
    "    guardian_2020_10_response = requests.get('https://content.guardianapis.com/search?page={}&from-date=2020-10-01&to-date=2020-10-31&order-by=newest&show-fields=all&page-size=200&api-key={}'.format(i+1, guardian_key))\n",
    "    guardian_oct_2020[i+1] = guardian_2020_10_response.json()"
   ]
  },
  {
   "cell_type": "code",
   "execution_count": 137,
   "metadata": {
    "scrolled": true
   },
   "outputs": [],
   "source": [
    "guardian_list = []\n",
    "for i in range(26):\n",
    "    guardian_list.append(guardian_oct_2020[i+1]['response']['results'])"
   ]
  },
  {
   "cell_type": "code",
   "execution_count": 140,
   "metadata": {},
   "outputs": [],
   "source": [
    "guardian_list = []\n",
    "for i in range(26):\n",
    "    single_page = guardian_oct_2020[i+1]['response']['results']\n",
    "    for j in range(len(single_page)):\n",
    "        guardian_list.append(single_page[j]['webTitle'])"
   ]
  },
  {
   "cell_type": "code",
   "execution_count": 96,
   "metadata": {},
   "outputs": [],
   "source": [
    "guardian_2020_10_response = requests.get('https://content.guardianapis.com/search?page={}&from-date=2020-10-01&to-date=2020-10-31&order-by=newest&show-fields=all&page-size=200&api-key={}'.format(21, guardian_key))\n",
    "guardian_oct_2020[21] = guardian_2020_10_response.json()"
   ]
  },
  {
   "cell_type": "code",
   "execution_count": 99,
   "metadata": {},
   "outputs": [],
   "source": [
    "guardian_2020_10_response = requests.get('https://content.guardianapis.com/search?page={}&from-date=2020-10-01&to-date=2020-10-31&order-by=newest&show-fields=all&page-size=200&api-key={}'.format(22, guardian_key))\n",
    "guardian_oct_2020[22] = guardian_2020_10_response.json()"
   ]
  },
  {
   "cell_type": "code",
   "execution_count": 141,
   "metadata": {},
   "outputs": [
    {
     "data": {
      "text/plain": [
       "5200"
      ]
     },
     "execution_count": 141,
     "metadata": {},
     "output_type": "execute_result"
    }
   ],
   "source": [
    "len(guardian_list)"
   ]
  },
  {
   "cell_type": "code",
   "execution_count": 142,
   "metadata": {},
   "outputs": [],
   "source": [
    "df_guardian = pd.DataFrame(guardian_list)\n",
    "df_guardian.to_csv('guardian_oct_2020.csv')"
   ]
  }
 ],
 "metadata": {
  "kernelspec": {
   "display_name": "Python 3",
   "language": "python",
   "name": "python3"
  },
  "language_info": {
   "codemirror_mode": {
    "name": "ipython",
    "version": 3
   },
   "file_extension": ".py",
   "mimetype": "text/x-python",
   "name": "python",
   "nbconvert_exporter": "python",
   "pygments_lexer": "ipython3",
   "version": "3.6.9"
  },
  "toc": {
   "base_numbering": 1,
   "nav_menu": {},
   "number_sections": true,
   "sideBar": true,
   "skip_h1_title": false,
   "title_cell": "Table of Contents",
   "title_sidebar": "Contents",
   "toc_cell": false,
   "toc_position": {},
   "toc_section_display": true,
   "toc_window_display": false
  }
 },
 "nbformat": 4,
 "nbformat_minor": 4
}
