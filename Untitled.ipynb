{
 "cells": [
  {
   "cell_type": "code",
   "execution_count": 1,
   "metadata": {},
   "outputs": [],
   "source": [
    "from config import datanews_key"
   ]
  },
  {
   "cell_type": "code",
   "execution_count": 2,
   "metadata": {},
   "outputs": [
    {
     "name": "stdout",
     "output_type": "stream",
     "text": [
      "Requirement already satisfied: datanews in /Users/taejoon/opt/anaconda3/envs/learn-env/lib/python3.6/site-packages (0.0.7)\n",
      "Requirement already satisfied: requests in /Users/taejoon/opt/anaconda3/envs/learn-env/lib/python3.6/site-packages (from datanews) (2.24.0)\n",
      "Requirement already satisfied: urllib3 in /Users/taejoon/opt/anaconda3/envs/learn-env/lib/python3.6/site-packages (from datanews) (1.25.10)\n",
      "Requirement already satisfied: certifi>=2017.4.17 in /Users/taejoon/opt/anaconda3/envs/learn-env/lib/python3.6/site-packages (from requests->datanews) (2020.6.20)\n",
      "Requirement already satisfied: chardet<4,>=3.0.2 in /Users/taejoon/opt/anaconda3/envs/learn-env/lib/python3.6/site-packages (from requests->datanews) (3.0.4)\n",
      "Requirement already satisfied: idna<3,>=2.5 in /Users/taejoon/opt/anaconda3/envs/learn-env/lib/python3.6/site-packages (from requests->datanews) (2.10)\n"
     ]
    }
   ],
   "source": [
    "!pip install datanews"
   ]
  },
  {
   "cell_type": "code",
   "execution_count": 3,
   "metadata": {},
   "outputs": [
    {
     "name": "stdout",
     "output_type": "stream",
     "text": [
      "WTO finally has a leader - POLITICO\n"
     ]
    }
   ],
   "source": [
    "import datanews\n",
    "datanews.api_key = datanews_key\n",
    "\n",
    "response = datanews.headlines(language=['en'])\n",
    "articles = response['hits']\n",
    "print(articles[0]['title'])"
   ]
  },
  {
   "cell_type": "code",
   "execution_count": 15,
   "metadata": {},
   "outputs": [
    {
     "data": {
      "text/plain": [
       "{'status': 200,\n",
       " 'numResults': 522517,\n",
       " 'hits': [{'url': 'https://www.politico.com/newsletters/weekly-trade/2021/02/16/wto-finally-has-a-leader-793383',\n",
       "   'source': 'politico.com',\n",
       "   'authors': [''],\n",
       "   'title': 'WTO finally has a leader - POLITICO',\n",
       "   'pubDate': '2021-02-16T15:00:00+00:00',\n",
       "   'country': 'us',\n",
       "   'language': 'en',\n",
       "   'description': 'WTO finally has a leader - POLITICO  Politico',\n",
       "   'imageUrl': 'https://static.politico.com/da/f5/44342c424c68b675719324b1106b/politico.jpg',\n",
       "   'content': 'With help from Doug Palmer and Sarah Anne Aarup\\n\\nEditor’s Note: Weekly Trade is a weekly version of POLITICO Pro’s daily Trade policy newsletter, Morning Trade. POLITICO Pro is a policy intelligence platform that combines the news you need with tools ... [+10561 chars]'},\n",
       "  {'url': 'https://www.newsweek.com/ncis-season-18-episode-8-release-date-not-airing-tonight-this-week-cbs-1569592',\n",
       "   'source': 'newsweek.com',\n",
       "   'authors': ['Samuel Spencer'],\n",
       "   'title': \"'NCIS': Why the Show Isn't Airing Tonight and When It Will Return\",\n",
       "   'pubDate': '2021-02-16T15:03:14+00:00',\n",
       "   'country': 'us',\n",
       "   'language': 'en',\n",
       "   'description': \"'NCIS': Why the Show Isn't Airing Tonight and When It Will Return  Newsweek\",\n",
       "   'imageUrl': 'https://d.newsweek.com/en/full/1671045/maria-bello-leaving-ncis.jpg',\n",
       "   'content': 'NCIS Season 18 may have only been airing for around a month in 2021, but the show is already set to take another break. Season 18, Episode 8, titled \"True Believer,\" is set to be the final episode featuring Maria Bello as Jack Sloane, but CBS viewers ... [+2961 chars]'},\n",
       "  {'url': 'https://www.reuters.com/video/watch/idPuBr?now=true',\n",
       "   'source': 'reuters.com',\n",
       "   'authors': ['Reuters Editorial'],\n",
       "   'title': 'Bitcoin vaults above $50,000 for first time',\n",
       "   'pubDate': '2021-02-16T15:06:06+00:00',\n",
       "   'country': 'us',\n",
       "   'language': 'en',\n",
       "   'description': 'Bitcoin vaults above $50,000 for first time  Reuters',\n",
       "   'imageUrl': 'https://ajo.prod.reuters.tv/api/v2/img/602ba46be4b0653eea183a04-1613472875184?location=LANDSCAPE',\n",
       "   'content': \"Bitcoin vaults above $50,000 for first time\\n\\nBitcoin rose above $50,000 on Tuesday to a new record high, building on a rally fueled by signs that the world's biggest cryptocurrency is gaining acceptance amongst mainstream investors.\"},\n",
       "  {'url': 'https://www.snopes.com/ap/2021/02/16/johnny-pacheco-obit/',\n",
       "   'source': 'snopes.com',\n",
       "   'authors': ['Snopes'],\n",
       "   'title': 'Johnny Pacheco, an Idol in World of Salsa, Dies at Age 85',\n",
       "   'pubDate': '2021-02-16T15:01:37+00:00',\n",
       "   'country': 'us',\n",
       "   'language': 'en',\n",
       "   'description': 'Johnny Pacheco, an Idol in World of Salsa, Dies at Age 85  Snopes.com',\n",
       "   'imageUrl': 'https://www.snopes.com/tachyon/2021/02/Obit_Johnny_Pacheco_85987-scaled.jpg',\n",
       "   'content': 'This article is republished here with permission from The Associated Press . This content is shared here because the topic may interest Snopes readers; it does not, however, represent the work of Snopes fact-checkers or editors.\\n\\nNEW YORK (AP) — Sals ... [+2125 chars]'},\n",
       "  {'url': 'https://www.si.com/nfl/giants/news/new-york-giants-salary-cap-study-optimizing-ot-nate-solder-savings',\n",
       "   'source': 'si.com',\n",
       "   'authors': ['Patricia Traina'],\n",
       "   'title': 'How Giants Can Optimize Nate Solder Cap Savings If They Terminate His Contract',\n",
       "   'pubDate': '2021-02-16T15:00:00+00:00',\n",
       "   'country': 'us',\n",
       "   'language': 'en',\n",
       "   'description': 'How Giants Can Optimize Nate Solder Cap Savings If They Terminate His Contract  Sports Illustrated',\n",
       "   'imageUrl': 'https://www.si.com/.image/t_share/MTY3MTQ0NzY5OTY3ODkxNTcy/usatsi_11040113_168386747_lowres.jpg',\n",
       "   'content': \"The Giants and Nate Solder are presumably planning to move on from one another. But here's a way the Giants can optimize their savings if that happens without having to wait until June 2.\\n\\nWith projections of the 2021 NFL salary cap set to drop this  ... [+4047 chars]\"},\n",
       "  {'url': 'https://www.theguardian.com/commentisfree/2021/feb/16/harry-meghan-media-critics-worse',\n",
       "   'source': 'theguardian.com',\n",
       "   'authors': ['Marina Hyde'],\n",
       "   'title': 'Whatever you think of Harry and Meghan, their media critics are far worse',\n",
       "   'pubDate': '2021-02-16T15:04:00+00:00',\n",
       "   'country': 'us',\n",
       "   'language': 'en',\n",
       "   'description': 'Whatever you think of Harry and Meghan, their media critics are far worse  The Guardian',\n",
       "   'imageUrl': 'https://i.guim.co.uk/img/media/ed6518a439d4ff15a1ae7c38d31f58a8d51fa0fe/0_0_5188_3113/master/5188.jpg?width=1200&height=630&quality=85&auto=format&fit=crop&overlay-align=bottom%2Cleft&overlay-width=100p&overlay-base64=L2ltZy9zdGF0aWMvb3ZlcmxheXMvdGctb3BpbmlvbnMucG5n&enable=upscale&s=8d89e2913eb852473f1b7fbbc29ad2bf',\n",
       "   'content': 'Like a lot of middle-aged newspapermen, the only reason I lose my mind over anything Meghan does is because I care – truly care – about the dignity of the royal family. There is something deeply sacred and pure about the throne of Olde England, which ... [+6667 chars]'},\n",
       "  {'url': 'https://www.thestreet.com/investing/microstrategy-issues-bonds-to-buy-more-bitcoin',\n",
       "   'source': 'thestreet.com',\n",
       "   'authors': ['Dan Weil'],\n",
       "   'title': 'MicroStrategy Issues $600 Million of Bonds to Buy More Bitcoin',\n",
       "   'pubDate': '2021-02-16T14:58:00+00:00',\n",
       "   'country': 'us',\n",
       "   'language': 'en',\n",
       "   'description': 'MicroStrategy Issues $600 Million of Bonds to Buy More Bitcoin  TheStreet',\n",
       "   'imageUrl': 'https://www.thestreet.com/.image/t_share/MTc4ODc1ODkwOTAwNDExOTEx/videoblocks-crypto-currency-gold-bitcoin-btc-bit-coin-macro-shot-of-bitcoins-blockchain-technology-bitcoin-mining-concept_hvfudfphkm_1080__d.jpg',\n",
       "   'content': 'Micro said that as of Feb. 8, it possessed 71,079 bitcoin. With bitcoin recently trading at more than $49,000, that stash is worth $3.5 billion.\\n\\nMicroStrategy (MSTR) - Get Report, the business software company that is quickly turning into a bitcoin  ... [+1546 chars]'},\n",
       "  {'url': 'https://www.theverge.com/2021/2/16/22285247/microsoft-xbox-wireless-headset-release-date-price-features',\n",
       "   'source': 'theverge.com',\n",
       "   'authors': ['Tom Warren'],\n",
       "   'title': 'Xbox Wireless Headset: Microsoft’s new headset launches March 16th for $99',\n",
       "   'pubDate': '2021-02-16T15:00:00+00:00',\n",
       "   'country': 'us',\n",
       "   'language': 'en',\n",
       "   'description': 'Xbox Wireless Headset: Microsoft’s new headset launches March 16th for $99  The Verge',\n",
       "   'imageUrl': 'https://cdn.vox-cdn.com/thumbor/ROgTEM8O10FOMoTN_jqD93Rxt3c=/0x38:1920x1043/fit-in/1200x630/cdn.vox-cdn.com/uploads/chorus_asset/file/22306602/XboxWire_Headset_RendersAsset.jpg',\n",
       "   'content': 'Microsoft is launching a new $99 Xbox Wireless Headset next month. It’s the first wireless Xbox headset since the Xbox 360 days, and it’s designed to connect with Xbox One and Xbox Series X / S consoles, PCs, and mobile devices via Bluetooth.\\n\\nThe Xb ... [+1448 chars]'},\n",
       "  {'url': 'https://www.today.com/food/celebrate-mardi-gras-jambalaya-beignet-recipes-t208958',\n",
       "   'source': 'today.com',\n",
       "   'authors': ['Alon Shaya'],\n",
       "   'title': 'Celebrate Mardi Gras with jambalaya and beignet recipes',\n",
       "   'pubDate': '2021-02-16T15:03:00+00:00',\n",
       "   'country': 'us',\n",
       "   'language': 'en',\n",
       "   'description': 'Celebrate Mardi Gras with jambalaya and beignet recipes  Today.com',\n",
       "   'imageUrl': 'https://media4.s-nbcnews.com/j/newscms/2021_07/1674444/jambalaya-jc-210215_67e025efa5a343dbc72dec597cf65126.social_share_1200x630_center.jpg',\n",
       "   'content': 'Chef and cookbook author Alon Shaya is joining TODAY to share some of his favorite classic New Orleans recipes for Mardi Gras. He shows us how to make saucy chicken and andouille sausage jambalaya and fluffy beignets topped with powdered sugar.\\n\\nI lo ... [+433 chars]'},\n",
       "  {'url': 'https://www.politico.com/newsletters/weekly-agriculture/2021/02/16/scotts-climate-equity-vision-for-house-ag-793377',\n",
       "   'source': 'politico.com',\n",
       "   'authors': [''],\n",
       "   'title': \"Scott's climate, equity vision for House Ag\",\n",
       "   'pubDate': '2021-02-16T15:00:00+00:00',\n",
       "   'country': 'us',\n",
       "   'language': 'en',\n",
       "   'description': \"Scott's climate, equity vision for House Ag  Politico\",\n",
       "   'imageUrl': 'https://static.politico.com/da/f5/44342c424c68b675719324b1106b/politico.jpg',\n",
       "   'content': 'With help from Michael Grunwald\\n\\nEditor’s Note: Weekly Agriculture is a weekly version of POLITICO Pro’s daily Agriculture policy newsletter, Morning Agriculture. POLITICO Pro is a policy intelligence platform that combines the news you need with too ... [+7959 chars]'}]}"
      ]
     },
     "execution_count": 15,
     "metadata": {},
     "output_type": "execute_result"
    }
   ],
   "source": [
    "response"
   ]
  },
  {
   "cell_type": "code",
   "execution_count": 17,
   "metadata": {},
   "outputs": [
    {
     "name": "stdout",
     "output_type": "stream",
     "text": [
      "WTO finally has a leader - POLITICO\n"
     ]
    }
   ],
   "source": [
    "response1 = datanews.headlines(size=100, language=['en'])\n",
    "articles = response1['hits']\n",
    "print(articles[0]['title'])"
   ]
  },
  {
   "cell_type": "code",
   "execution_count": 19,
   "metadata": {},
   "outputs": [
    {
     "data": {
      "text/plain": [
       "100"
      ]
     },
     "execution_count": 19,
     "metadata": {},
     "output_type": "execute_result"
    }
   ],
   "source": [
    "len(articles)"
   ]
  },
  {
   "cell_type": "code",
   "execution_count": 23,
   "metadata": {},
   "outputs": [
    {
     "name": "stdout",
     "output_type": "stream",
     "text": [
      "“Can’t Get You Out Of My Head” is ambitious but largely forgettable\n"
     ]
    }
   ],
   "source": [
    "response2 = datanews.headlines(source='economist.com', size=100, language=['en'])\n",
    "articles = response2['hits']\n",
    "print(articles[0]['title'])"
   ]
  },
  {
   "cell_type": "code",
   "execution_count": null,
   "metadata": {},
   "outputs": [],
   "source": [
    "response3 = datanews.headlines(source='economist.com', size=100, language=['en'])\n",
    "articles = response2['hits']\n",
    "print(articles[0]['title'])"
   ]
  },
  {
   "cell_type": "code",
   "execution_count": null,
   "metadata": {},
   "outputs": [],
   "source": []
  },
  {
   "cell_type": "code",
   "execution_count": null,
   "metadata": {},
   "outputs": [],
   "source": []
  }
 ],
 "metadata": {
  "kernelspec": {
   "display_name": "Python 3",
   "language": "python",
   "name": "python3"
  },
  "language_info": {
   "codemirror_mode": {
    "name": "ipython",
    "version": 3
   },
   "file_extension": ".py",
   "mimetype": "text/x-python",
   "name": "python",
   "nbconvert_exporter": "python",
   "pygments_lexer": "ipython3",
   "version": "3.6.9"
  },
  "toc": {
   "base_numbering": 1,
   "nav_menu": {},
   "number_sections": true,
   "sideBar": true,
   "skip_h1_title": false,
   "title_cell": "Table of Contents",
   "title_sidebar": "Contents",
   "toc_cell": false,
   "toc_position": {},
   "toc_section_display": true,
   "toc_window_display": false
  }
 },
 "nbformat": 4,
 "nbformat_minor": 4
}
